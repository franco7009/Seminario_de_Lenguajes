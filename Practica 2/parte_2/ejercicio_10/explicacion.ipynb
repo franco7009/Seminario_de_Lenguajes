{
  "metadata": {
    "language_info": {
      "codemirror_mode": {
        "name": "python",
        "version": 3
      },
      "file_extension": ".py",
      "mimetype": "text/x-python",
      "name": "python",
      "nbconvert_exporter": "python",
      "pygments_lexer": "ipython3",
      "version": "3.8"
    },
    "kernelspec": {
      "name": "python",
      "display_name": "Pyolite",
      "language": "python"
    }
  },
  "nbformat_minor": 4,
  "nbformat": 4,
  "cells": [
    {
      "cell_type": "markdown",
      "source": "# Explicación de ejercicio 10\n",
      "metadata": {}
    },
    {
      "cell_type": "markdown",
      "source": "## Creamos la estructura con el nombre del alumno y la suma de sus 2 notas",
      "metadata": {}
    },
    {
      "cell_type": "markdown",
      "source": "* Abrimos los archivos de texto y le asignamos cada uno a una variable\n* Eliminamos las comas(,) y las comillas(') de cada cadena de texto de cada variable\n* Le asiganmos en un diccionario a cada nombre de alumno, su correspondiente suma de la nota 1 y nota 2\n* Hacemos un return del diccionario generado",
      "metadata": {}
    },
    {
      "cell_type": "code",
      "source": "def crearEstructura():\n    with open(r\"nombres_1.txt\", encoding=\"UTF-8\") as nombres:\n        nombres = nombres.read()\n    with open(r\"eval1.txt\") as eval1:\n        eval1 = eval1.read()\n    with open(r\"eval2.txt\") as eval2:\n        eval2 = eval2.read()\n\n    nombres = nombres.replace(\",\", \"\").replace(\"'\", \"\").lower().split()\n    eval1 = eval1.replace(\",\",\"\").split()\n    eval2 = eval2.replace(\",\",\"\").split()\n    notas = {}\n    for alumno in range(len(nombres)):\n        nota = (int(eval1[alumno]) + int(eval2[alumno]))\n        notas[nombres[alumno]] = nota\n    return notas",
      "metadata": {
        "trusted": true
      },
      "execution_count": 11,
      "outputs": []
    },
    {
      "cell_type": "markdown",
      "source": "## Calculamos el promedio",
      "metadata": {}
    },
    {
      "cell_type": "markdown",
      "source": "* Recorremos el diccionario creado\n* Sumamos las notas de cada alumno\n* Sacamos el promedio dividiendo la suma por el total de alumnos en el diccionario\n* Retornamos el resultado",
      "metadata": {}
    },
    {
      "cell_type": "code",
      "source": "def calcularPromedio(notas):\n    promedio = 0\n    for alumno in notas:\n        promedio+= notas[alumno]\n    return int(promedio / len(notas))",
      "metadata": {
        "trusted": true
      },
      "execution_count": 12,
      "outputs": []
    },
    {
      "cell_type": "markdown",
      "source": "## Alumnos por debajo del promedio",
      "metadata": {}
    },
    {
      "cell_type": "markdown",
      "source": "* Recorremos el diccionario de notas\n* Por cada alumno, preguntamos si sus notas se encuentran por debajo del promedio\n* Si lo está, guardamos su nombre y nota en un nuevo diccionario\n* Devolvemos la nueva estructura",
      "metadata": {}
    },
    {
      "cell_type": "code",
      "source": "def promediosBajos(notas, promedio):\n    bajos = {}\n    for alumno in notas:\n        if(notas[alumno] < promedio):\n            bajos[alumno] = notas[alumno]\n    return bajos",
      "metadata": {
        "trusted": true
      },
      "execution_count": 14,
      "outputs": []
    },
    {
      "cell_type": "markdown",
      "source": "## Ejecutamos las funciones",
      "metadata": {}
    },
    {
      "cell_type": "markdown",
      "source": "* Creamos variables para:\n    * Las notas(nombre y nota) de los alumnos \n    * El promedio\n    * Los alumnos por debajo del promedio\n* Le damos valor a cada variable llamando a su correspondiente función",
      "metadata": {}
    },
    {
      "cell_type": "code",
      "source": "notas = crearEstructura()\npromedio = calcularPromedio(notas)\nprom_bajos = promediosBajos(notas, promedio)",
      "metadata": {
        "trusted": true
      },
      "execution_count": 16,
      "outputs": [
        {
          "ename": "<class 'FileNotFoundError'>",
          "evalue": "[Errno 44] No such file or directory: 'nombres_1.txt'",
          "traceback": [
            "\u001b[0;31m---------------------------------------------------------------------------\u001b[0m",
            "\u001b[0;31mFileNotFoundError\u001b[0m                         Traceback (most recent call last)",
            "Input \u001b[0;32mIn [16]\u001b[0m, in \u001b[0;36m<cell line: 1>\u001b[0;34m()\u001b[0m\n\u001b[0;32m----> 1\u001b[0m notas \u001b[38;5;241m=\u001b[39m \u001b[43mcrearEstructura\u001b[49m\u001b[43m(\u001b[49m\u001b[43m)\u001b[49m\n\u001b[1;32m      2\u001b[0m promedio \u001b[38;5;241m=\u001b[39m calcularPromedio(notas)\n\u001b[1;32m      3\u001b[0m prom_bajos \u001b[38;5;241m=\u001b[39m promediosBajos(notas, promedio)\n",
            "Input \u001b[0;32mIn [11]\u001b[0m, in \u001b[0;36mcrearEstructura\u001b[0;34m()\u001b[0m\n\u001b[1;32m      1\u001b[0m \u001b[38;5;28;01mdef\u001b[39;00m \u001b[38;5;21mcrearEstructura\u001b[39m():\n\u001b[0;32m----> 2\u001b[0m     \u001b[38;5;28;01mwith\u001b[39;00m \u001b[38;5;28;43mopen\u001b[39;49m\u001b[43m(\u001b[49m\u001b[38;5;124;43mr\u001b[39;49m\u001b[38;5;124;43m\"\u001b[39;49m\u001b[38;5;124;43mnombres_1.txt\u001b[39;49m\u001b[38;5;124;43m\"\u001b[39;49m\u001b[43m,\u001b[49m\u001b[43m \u001b[49m\u001b[43mencoding\u001b[49m\u001b[38;5;241;43m=\u001b[39;49m\u001b[38;5;124;43m\"\u001b[39;49m\u001b[38;5;124;43mUTF-8\u001b[39;49m\u001b[38;5;124;43m\"\u001b[39;49m\u001b[43m)\u001b[49m \u001b[38;5;28;01mas\u001b[39;00m nombres:\n\u001b[1;32m      3\u001b[0m         nombres \u001b[38;5;241m=\u001b[39m nombres\u001b[38;5;241m.\u001b[39mread()\n\u001b[1;32m      4\u001b[0m     \u001b[38;5;28;01mwith\u001b[39;00m \u001b[38;5;28mopen\u001b[39m(\u001b[38;5;124mr\u001b[39m\u001b[38;5;124m\"\u001b[39m\u001b[38;5;124meval1.txt\u001b[39m\u001b[38;5;124m\"\u001b[39m) \u001b[38;5;28;01mas\u001b[39;00m eval1:\n",
            "\u001b[0;31mFileNotFoundError\u001b[0m: [Errno 44] No such file or directory: 'nombres_1.txt'"
          ],
          "output_type": "error"
        }
      ]
    },
    {
      "cell_type": "markdown",
      "source": "* Imprimimos los alumnos por debajo del promedio",
      "metadata": {}
    },
    {
      "cell_type": "code",
      "source": "print(f'Alumnos con promedio menor a {promedio}')\n\nfor alumno in prom_bajos:\n    print(f'{alumno}\\t{prom_bajos[alumno]}'.capitalize())",
      "metadata": {},
      "execution_count": null,
      "outputs": []
    }
  ]
}